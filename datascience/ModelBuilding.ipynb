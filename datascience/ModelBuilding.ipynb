{
 "cells": [
  {
   "cell_type": "markdown",
   "id": "liberal-hierarchy",
   "metadata": {},
   "source": [
    "# Mansa Kanedama Data Science\n",
    "#### Oscar Gilg"
   ]
  },
  {
   "cell_type": "markdown",
   "id": "secret-tomato",
   "metadata": {},
   "source": [
    "#### Intro\n",
    "\n",
    "This notebook will experiment with 3 types of models to predict expense given 3 months of history:\n",
    "\n",
    "    - Linear Regression (and Lasso, Ridge)\n",
    "    - XGBoost\n",
    "    - Feed-forward neural networks\n",
    "    \n",
    "Using the insights from the data exploration, we now have a set of features to train on. We may want to refine this set of features as we experiment with different models."
   ]
  },
  {
   "cell_type": "code",
   "execution_count": 1,
   "id": "sized-typing",
   "metadata": {
    "tags": []
   },
   "outputs": [
    {
     "name": "stdout",
     "output_type": "stream",
     "text": [
      "C:\\Users\\oscar\\PycharmProjects\\kanedama\n"
     ]
    }
   ],
   "source": [
    "cd .."
   ]
  },
  {
   "cell_type": "code",
   "execution_count": 2,
   "id": "located-leave",
   "metadata": {},
   "outputs": [],
   "source": [
    "import pandas as pd\n",
    "import numpy as np\n",
    "import os\n",
    "import matplotlib.pyplot as plt\n",
    "import pickle"
   ]
  },
  {
   "cell_type": "code",
   "execution_count": 3,
   "id": "selected-brooks",
   "metadata": {},
   "outputs": [],
   "source": [
    "transactions = pd.read_csv(os.path.join('datascience','data', 'transactions.csv'))\n",
    "transactions.date = pd.to_datetime(transactions.date, format=\"%Y/%m/%d\")\n",
    "accounts = pd.read_csv(os.path.join('datascience', 'data', 'accounts.csv'))\n",
    "users = pd.read_csv(os.path.join('datascience', 'data', 'users.csv'))\n",
    "users.update_date = pd.to_datetime(users.update_date, format=\"%Y/%m/%d\")"
   ]
  },
  {
   "cell_type": "code",
   "execution_count": 4,
   "id": "informative-scout",
   "metadata": {},
   "outputs": [],
   "source": [
    "from src.user_data.User import User\n",
    "from src.user_data.UserDataExtractor import UserDataExtractor\n",
    "from src.user_data.utils import get_job_type"
   ]
  },
  {
   "cell_type": "markdown",
   "id": "tender-peeing",
   "metadata": {},
   "source": [
    "### Transforming the data into trainable format"
   ]
  },
  {
   "cell_type": "code",
   "execution_count": 5,
   "id": "naval-irish",
   "metadata": {},
   "outputs": [],
   "source": [
    "def get_naf_code(user_id):\n",
    "    return users.loc[users['id'] == user_id]['business_NAF_code'].values[0]"
   ]
  },
  {
   "cell_type": "code",
   "execution_count": 6,
   "id": "third-wagon",
   "metadata": {},
   "outputs": [],
   "source": [
    "months_back = 3"
   ]
  },
  {
   "cell_type": "code",
   "execution_count": 7,
   "id": "nervous-national",
   "metadata": {},
   "outputs": [],
   "source": [
    "def get_train_vectors(start_date, user_data):\n",
    "    past_data = user_data.construct_past_data(start_date, months_back, user_data.filled_history)\n",
    "    next_income = user_data.calculate_income(user_data.filled_history[start_date: start_date+np.timedelta64(30,'D')])\n",
    "    next_expense = user_data.calculate_expense(user_data.filled_history[start_date: start_date+np.timedelta64(30,'D')])\n",
    "\n",
    "    return past_data, next_income, next_expense"
   ]
  },
  {
   "cell_type": "code",
   "execution_count": 8,
   "id": "flexible-thong",
   "metadata": {},
   "outputs": [],
   "source": [
    "def build_train_data(user, X, Y_inc, Y_exp):\n",
    "    user_data = UserDataExtractor(u)\n",
    "    start_train_date = user_data.start_date + np.timedelta64((months_back)*30, 'D')\n",
    "    while start_train_date < user_data.end_date-np.timedelta64(31,'D'):\n",
    "        past_data, next_income, next_expense  = get_train_vectors(start_train_date, user_data)\n",
    "        X = X.append(pd.concat([past_data, user.info], axis=1))\n",
    "        Y_exp.append(next_expense)\n",
    "        Y_inc.append(next_income)\n",
    "        start_train_date = start_train_date + np.timedelta64(30,'D')\n",
    "    return X, Y_inc, Y_exp"
   ]
  },
  {
   "cell_type": "code",
   "execution_count": 67,
   "id": "rational-sarah",
   "metadata": {
    "tags": []
   },
   "outputs": [
    {
     "name": "stdout",
     "output_type": "stream",
     "text": [
      "49\n",
      "99\n",
      "149\n",
      "199\n",
      "299\n"
     ]
    }
   ],
   "source": [
    "X = pd.DataFrame()\n",
    "Y_inc = []\n",
    "Y_exp = []\n",
    "for user_id in range(343):\n",
    "    u = User(user_id, accounts, transactions, get_naf_code(user_id))\n",
    "    # only select users with sufficient history, plots will show up blank\n",
    "    if u.get_history_length() < (months_back)*30 or len(u.account_history) < 20:\n",
    "        continue\n",
    "    X,Y_inc, Y_exp = build_train_data(u, X, Y_inc, Y_exp)\n",
    "    if user_id%50 == 49:\n",
    "        print(user_id)\n"
   ]
  },
  {
   "cell_type": "markdown",
   "id": "bizarre-investigation",
   "metadata": {},
   "source": [
    "## Encoders"
   ]
  },
  {
   "cell_type": "code",
   "execution_count": 10,
   "id": "respected-content",
   "metadata": {},
   "outputs": [],
   "source": [
    "from sklearn.preprocessing import LabelEncoder, OneHotEncoder"
   ]
  },
  {
   "cell_type": "code",
   "execution_count": 11,
   "id": "conscious-teens",
   "metadata": {},
   "outputs": [],
   "source": [
    "label_encode_cols = ['naf_code', 'job_type', 'last_letter_naf']"
   ]
  },
  {
   "cell_type": "code",
   "execution_count": 12,
   "id": "treated-ethnic",
   "metadata": {},
   "outputs": [],
   "source": [
    "naf_enc = LabelEncoder().fit(X['naf_code'])\n",
    "X['naf_code'] = naf_enc.transform(X['naf_code'])\n",
    "job_type_enc = LabelEncoder().fit(X['job_type'])\n",
    "X['job_type'] = job_type_enc.transform(X['job_type'])\n",
    "last_letter_enc = LabelEncoder().fit(X['last_letter_naf'])\n",
    "X['last_letter_naf'] = last_letter_enc.transform(X['last_letter_naf'])"
   ]
  },
  {
   "cell_type": "code",
   "execution_count": 13,
   "id": "useful-circle",
   "metadata": {},
   "outputs": [],
   "source": [
    "pickle.dump(naf_enc, open('naf_enc.pickle', 'wb'))\n",
    "pickle.dump(job_type_enc, open('job_type_enc.pickle', 'wb'))\n",
    "pickle.dump(last_letter_enc, open('last_letter_enc.pickle', 'wb'))"
   ]
  },
  {
   "cell_type": "code",
   "execution_count": 14,
   "id": "confidential-plaintiff",
   "metadata": {},
   "outputs": [
    {
     "name": "stderr",
     "output_type": "stream",
     "text": [
      "C:\\Users\\oscar\\anaconda3\\envs\\timeseries\\lib\\site-packages\\sklearn\\utils\\validation.py:63: DataConversionWarning: A column-vector y was passed when a 1d array was expected. Please change the shape of y to (n_samples, ), for example using ravel().\n",
      "  return f(*args, **kwargs)\n"
     ]
    }
   ],
   "source": [
    "naf_encoder = LabelEncoder().fit(pd.DataFrame(users['business_NAF_code'].unique()))"
   ]
  },
  {
   "cell_type": "code",
   "execution_count": 15,
   "id": "portable-daniel",
   "metadata": {},
   "outputs": [],
   "source": [
    "job_types = [get_job_type(code) for code in users['business_NAF_code'].unique()]\n",
    "unique_job_types = list(set(job_types))\n",
    "job_type_encoder = LabelEncoder().fit(pd.DataFrame(unique_job_types))"
   ]
  },
  {
   "cell_type": "markdown",
   "id": "convertible-creator",
   "metadata": {},
   "source": [
    "## Modeling"
   ]
  },
  {
   "cell_type": "code",
   "execution_count": 16,
   "id": "oriental-relationship",
   "metadata": {},
   "outputs": [],
   "source": [
    "def evaluate_model(model, X_val, y_val):\n",
    "    print(\"RMSE - Val: \", np.sqrt(mean_squared_error(y_val, model.predict(X_val))))\n",
    "    print(\"R^2 - Val: \", r2_score(model.predict(X_val), y_val))"
   ]
  },
  {
   "cell_type": "code",
   "execution_count": 17,
   "id": "crazy-smith",
   "metadata": {},
   "outputs": [],
   "source": [
    "from sklearn.model_selection import train_test_split\n",
    "from sklearn.metrics import mean_squared_error\n",
    "from sklearn.metrics import r2_score\n",
    "from sklearn.model_selection import GridSearchCV"
   ]
  },
  {
   "cell_type": "markdown",
   "id": "advanced-accident",
   "metadata": {},
   "source": [
    "Separate train, validation and test sets. The small amount of data means we only take 20% for each."
   ]
  },
  {
   "cell_type": "code",
   "execution_count": 50,
   "id": "brazilian-opening",
   "metadata": {},
   "outputs": [],
   "source": [
    "X_train, X_test, y_train, y_test = train_test_split(X, Y_exp, test_size=0.2, random_state=5)\n",
    "X_train, X_val, y_train, y_val = train_test_split(X_train, y_train, test_size=0.2, random_state=5)"
   ]
  },
  {
   "cell_type": "markdown",
   "id": "related-moldova",
   "metadata": {},
   "source": [
    "## Linear Regression "
   ]
  },
  {
   "cell_type": "markdown",
   "id": "faced-liver",
   "metadata": {},
   "source": [
    "My first step is always to start with a linear model with some regularisation."
   ]
  },
  {
   "cell_type": "code",
   "execution_count": 51,
   "id": "chronic-estonia",
   "metadata": {},
   "outputs": [],
   "source": [
    "from sklearn.linear_model import LinearRegression, Lasso, Ridge"
   ]
  },
  {
   "cell_type": "code",
   "execution_count": 52,
   "id": "unable-government",
   "metadata": {},
   "outputs": [],
   "source": [
    "lr = Ridge(fit_intercept=True, alpha=0.005, max_iter=15000)\n",
    "lr = lr.fit(X_train, y_train)\n"
   ]
  },
  {
   "cell_type": "code",
   "execution_count": 53,
   "id": "fossil-primary",
   "metadata": {},
   "outputs": [
    {
     "name": "stdout",
     "output_type": "stream",
     "text": [
      "RMSE - Val:  3470.713707990297\n",
      "R^2 - Val:  0.5909731694686724\n"
     ]
    }
   ],
   "source": [
    "evaluate_model(lr, X_val, y_val)"
   ]
  },
  {
   "cell_type": "markdown",
   "id": "gorgeous-encounter",
   "metadata": {},
   "source": [
    "The R^2 value goes up to 0.7 with Ridge and 0.66 with Lasso. As this is human behaviour, an R^2 higher than 0.7 is unlikely to be possible so this is quite good. It is unlikely that the models are overfitting too much because of how simple they are and how much regularisation is chosen (1-10)."
   ]
  },
  {
   "cell_type": "code",
   "execution_count": 54,
   "id": "received-semester",
   "metadata": {},
   "outputs": [],
   "source": [
    "params = {\n",
    "    'alpha':[0.001, 0.005, 0.01,0.05, 0.1, 1, 5, 10],\n",
    "    'fit_intercept' : [True, False],\n",
    "    'normalize': [True, False]\n",
    "}"
   ]
  },
  {
   "cell_type": "code",
   "execution_count": 30,
   "id": "several-consumption",
   "metadata": {},
   "outputs": [
    {
     "name": "stdout",
     "output_type": "stream",
     "text": [
      "Fitting 5 folds for each of 32 candidates, totalling 160 fits\n"
     ]
    },
    {
     "data": {
      "text/plain": [
       "GridSearchCV(cv=5, estimator=Ridge(max_iter=10000), n_jobs=4,\n",
       "             param_grid={'alpha': [0.001, 0.005, 0.01, 0.05, 0.1, 1, 5, 10],\n",
       "                         'fit_intercept': [True, False],\n",
       "                         'normalize': [True, False]},\n",
       "             scoring='r2', verbose=3)"
      ]
     },
     "execution_count": 30,
     "metadata": {},
     "output_type": "execute_result"
    }
   ],
   "source": [
    "lr=Ridge(max_iter=10000)\n",
    "lr_grid = GridSearchCV(lr, param_grid=params, verbose=3, cv=5, scoring='r2', n_jobs=4)\n",
    "lr_grid.fit(X_train, y_train)"
   ]
  },
  {
   "cell_type": "code",
   "execution_count": 31,
   "id": "cutting-extension",
   "metadata": {},
   "outputs": [
    {
     "data": {
      "text/plain": [
       "{'alpha': 0.005, 'fit_intercept': True, 'normalize': True}"
      ]
     },
     "execution_count": 31,
     "metadata": {},
     "output_type": "execute_result"
    }
   ],
   "source": [
    "lr_grid.best_params_"
   ]
  },
  {
   "cell_type": "code",
   "execution_count": 32,
   "id": "exterior-notebook",
   "metadata": {},
   "outputs": [
    {
     "data": {
      "text/plain": [
       "0.6139923806096733"
      ]
     },
     "execution_count": 32,
     "metadata": {},
     "output_type": "execute_result"
    }
   ],
   "source": [
    "lr_grid.best_score_"
   ]
  },
  {
   "cell_type": "code",
   "execution_count": 55,
   "id": "meaningful-commissioner",
   "metadata": {},
   "outputs": [
    {
     "data": {
      "text/html": [
       "<div>\n",
       "<style scoped>\n",
       "    .dataframe tbody tr th:only-of-type {\n",
       "        vertical-align: middle;\n",
       "    }\n",
       "\n",
       "    .dataframe tbody tr th {\n",
       "        vertical-align: top;\n",
       "    }\n",
       "\n",
       "    .dataframe thead th {\n",
       "        text-align: right;\n",
       "    }\n",
       "</style>\n",
       "<table border=\"1\" class=\"dataframe\">\n",
       "  <thead>\n",
       "    <tr style=\"text-align: right;\">\n",
       "      <th></th>\n",
       "      <th>0</th>\n",
       "    </tr>\n",
       "  </thead>\n",
       "  <tbody>\n",
       "    <tr>\n",
       "      <th>income_3</th>\n",
       "      <td>0.050995</td>\n",
       "    </tr>\n",
       "    <tr>\n",
       "      <th>expense_3</th>\n",
       "      <td>0.003227</td>\n",
       "    </tr>\n",
       "    <tr>\n",
       "      <th>agg_3</th>\n",
       "      <td>0.101745</td>\n",
       "    </tr>\n",
       "    <tr>\n",
       "      <th>month_std_3</th>\n",
       "      <td>-0.741748</td>\n",
       "    </tr>\n",
       "    <tr>\n",
       "      <th>month_end_bal_3</th>\n",
       "      <td>0.358780</td>\n",
       "    </tr>\n",
       "    <tr>\n",
       "      <th>income_2</th>\n",
       "      <td>-0.073503</td>\n",
       "    </tr>\n",
       "    <tr>\n",
       "      <th>expense_2</th>\n",
       "      <td>0.269162</td>\n",
       "    </tr>\n",
       "    <tr>\n",
       "      <th>agg_2</th>\n",
       "      <td>0.292366</td>\n",
       "    </tr>\n",
       "    <tr>\n",
       "      <th>month_std_2</th>\n",
       "      <td>0.673421</td>\n",
       "    </tr>\n",
       "    <tr>\n",
       "      <th>month_end_bal_2</th>\n",
       "      <td>0.028852</td>\n",
       "    </tr>\n",
       "    <tr>\n",
       "      <th>income_1</th>\n",
       "      <td>-0.364170</td>\n",
       "    </tr>\n",
       "    <tr>\n",
       "      <th>expense_1</th>\n",
       "      <td>0.391505</td>\n",
       "    </tr>\n",
       "    <tr>\n",
       "      <th>agg_1</th>\n",
       "      <td>0.103394</td>\n",
       "    </tr>\n",
       "    <tr>\n",
       "      <th>month_std_1</th>\n",
       "      <td>1.660201</td>\n",
       "    </tr>\n",
       "    <tr>\n",
       "      <th>month_end_bal_1</th>\n",
       "      <td>-0.519491</td>\n",
       "    </tr>\n",
       "    <tr>\n",
       "      <th>last_month_gains</th>\n",
       "      <td>0.103394</td>\n",
       "    </tr>\n",
       "    <tr>\n",
       "      <th>naf_code</th>\n",
       "      <td>2.591543</td>\n",
       "    </tr>\n",
       "    <tr>\n",
       "      <th>job_type</th>\n",
       "      <td>-4.146442</td>\n",
       "    </tr>\n",
       "  </tbody>\n",
       "</table>\n",
       "</div>"
      ],
      "text/plain": [
       "                         0\n",
       "income_3          0.050995\n",
       "expense_3         0.003227\n",
       "agg_3             0.101745\n",
       "month_std_3      -0.741748\n",
       "month_end_bal_3   0.358780\n",
       "income_2         -0.073503\n",
       "expense_2         0.269162\n",
       "agg_2             0.292366\n",
       "month_std_2       0.673421\n",
       "month_end_bal_2   0.028852\n",
       "income_1         -0.364170\n",
       "expense_1         0.391505\n",
       "agg_1             0.103394\n",
       "month_std_1       1.660201\n",
       "month_end_bal_1  -0.519491\n",
       "last_month_gains  0.103394\n",
       "naf_code          2.591543\n",
       "job_type         -4.146442"
      ]
     },
     "execution_count": 55,
     "metadata": {},
     "output_type": "execute_result"
    }
   ],
   "source": [
    "pd.DataFrame(lr.coef_, index=X.columns)"
   ]
  },
  {
   "cell_type": "markdown",
   "id": "separate-audio",
   "metadata": {},
   "source": [
    "The coefficients are hard to compare because the features are not normalized. Overall, we get:\n",
    "\n",
    "- negative coefficients for income\n",
    "- positive coefficients for expense\n",
    "- positive coeffs for aggregate\n",
    "\n",
    "Which is sensible"
   ]
  },
  {
   "cell_type": "markdown",
   "id": "married-review",
   "metadata": {},
   "source": [
    "### XGBoost"
   ]
  },
  {
   "cell_type": "markdown",
   "id": "purple-making",
   "metadata": {},
   "source": [
    "On top of its good performance, XGBoost can give us an insight into feature importances"
   ]
  },
  {
   "cell_type": "code",
   "execution_count": 56,
   "id": "northern-bearing",
   "metadata": {},
   "outputs": [],
   "source": [
    "import xgboost as xgb\n",
    "from xgboost import plot_importance"
   ]
  },
  {
   "cell_type": "code",
   "execution_count": 58,
   "id": "exempt-participant",
   "metadata": {},
   "outputs": [
    {
     "data": {
      "text/plain": [
       "XGBRegressor(base_score=0.5, booster='gbtree', colsample_bylevel=1,\n",
       "             colsample_bynode=1, colsample_bytree=0.8, eta=0.01, gamma=0,\n",
       "             gpu_id=-1, importance_type='gain', interaction_constraints='',\n",
       "             learning_rate=0.5, max_delta_step=0, max_depth=4,\n",
       "             min_child_weight=1, missing=nan, monotone_constraints='()',\n",
       "             n_estimators=50, n_jobs=12, num_parallel_tree=1, random_state=0,\n",
       "             reg_alpha=0, reg_lambda=1, scale_pos_weight=1, subsample=1.0,\n",
       "             tree_method='exact', validate_parameters=1, verbosity=None)"
      ]
     },
     "execution_count": 58,
     "metadata": {},
     "output_type": "execute_result"
    }
   ],
   "source": [
    "xg = xgb.XGBRegressor(**best_params, objective ='reg:squarederror')\n",
    "xg.fit(X_train, y_train)"
   ]
  },
  {
   "cell_type": "code",
   "execution_count": 59,
   "id": "random-western",
   "metadata": {},
   "outputs": [
    {
     "name": "stdout",
     "output_type": "stream",
     "text": [
      "RMSE - Val:  3597.283537931519\n",
      "R^2 - Val:  0.560099184263362\n"
     ]
    }
   ],
   "source": [
    "evaluate_model(xg, X_val, y_val)"
   ]
  },
  {
   "cell_type": "code",
   "execution_count": 60,
   "id": "obvious-ethiopia",
   "metadata": {
    "tags": []
   },
   "outputs": [
    {
     "data": {
      "image/png": "[encoded data removed]",
      "text/plain": [
       "<Figure size 720x720 with 1 Axes>"
      ]
     },
     "metadata": {
      "needs_background": "light"
     },
     "output_type": "display_data"
    }
   ],
   "source": [
    "fig,ax = plt.subplots(figsize=(10,10))\n",
    "plot_importance(xg.get_booster(),ax=ax)\n",
    "plt.show()"
   ]
  },
  {
   "cell_type": "markdown",
   "id": "historic-canvas",
   "metadata": {},
   "source": [
    "Income is what has the greatest importance, which is reassuring.\n",
    "\n",
    "The encoded features related to the naf code do not have much explanatory power according to this model. The number of features is quite low, so we will keep them, but with a label encoder for the last letter to avoid introducing 5 potentially unhelpful features. Dropping the feature could also be a good idea after more testing."
   ]
  },
  {
   "cell_type": "code",
   "execution_count": null,
   "id": "technical-mexican",
   "metadata": {},
   "outputs": [],
   "source": [
    "params = {\n",
    "        'min_child_weight': [10],\n",
    "        'max_depth': [6, 7],\n",
    "        'n_estimators' : [10, 20, 50],\n",
    "        'learning_rate' : [0.1, 0.3, 0.5],\n",
    "        'colsample_bytree': [0.7, 0.8, 1.0],\n",
    "        'eta':[0.01, 0.1, 0.5],\n",
    "        'subsample': [0.7, 0.8, 1.0],\n",
    "    \n",
    "        }"
   ]
  },
  {
   "cell_type": "code",
   "execution_count": null,
   "id": "hybrid-hayes",
   "metadata": {},
   "outputs": [],
   "source": [
    "xg = xgb.XGBRegressor(tree_method='gpu_hist', gpu_id=0, objective='reg:squarederror')\n"
   ]
  },
  {
   "cell_type": "code",
   "execution_count": null,
   "id": "lightweight-confusion",
   "metadata": {},
   "outputs": [],
   "source": [
    "xg_grid = GridSearchCV(xg, param_grid=params, verbose=3, cv=4, scoring='r2', n_jobs=4)"
   ]
  },
  {
   "cell_type": "code",
   "execution_count": null,
   "id": "functioning-incident",
   "metadata": {
    "tags": []
   },
   "outputs": [],
   "source": [
    "xg_grid.fit(X_train, y_train)"
   ]
  },
  {
   "cell_type": "code",
   "execution_count": null,
   "id": "basic-psychiatry",
   "metadata": {},
   "outputs": [],
   "source": [
    "xg_grid.best_params_"
   ]
  },
  {
   "cell_type": "code",
   "execution_count": 57,
   "id": "packed-belle",
   "metadata": {},
   "outputs": [],
   "source": [
    "best_params = {'colsample_bytree': 0.8,\n",
    " 'eta': 0.01,\n",
    " 'learning_rate': 0.5,\n",
    " 'max_depth': 4,\n",
    " 'n_estimators': 50,\n",
    " 'subsample': 1.0}"
   ]
  },
  {
   "cell_type": "code",
   "execution_count": null,
   "id": "destroyed-munich",
   "metadata": {},
   "outputs": [],
   "source": [
    "xg_grid.best_score_"
   ]
  },
  {
   "cell_type": "markdown",
   "id": "formed-bidding",
   "metadata": {},
   "source": [
    "This does no go higher than 0.55 in my runs"
   ]
  },
  {
   "cell_type": "code",
   "execution_count": null,
   "id": "certain-landing",
   "metadata": {},
   "outputs": [],
   "source": [
    "xg = xg_grid.best_estimator_"
   ]
  },
  {
   "cell_type": "markdown",
   "id": "herbal-terry",
   "metadata": {},
   "source": [
    "The performance of XGBoost was not as good as linear regression so it isn't worth investigating this model further."
   ]
  },
  {
   "cell_type": "markdown",
   "id": "proper-banner",
   "metadata": {},
   "source": [
    "## Neural Network"
   ]
  },
  {
   "cell_type": "markdown",
   "id": "focused-breeding",
   "metadata": {},
   "source": [
    "Finally, neural networks with a small number of layer might work in this case, due to the fact that this is probably a somewhat non-linear regression problem"
   ]
  },
  {
   "cell_type": "code",
   "execution_count": 61,
   "id": "pressing-extra",
   "metadata": {},
   "outputs": [],
   "source": [
    "from sklearn.neural_network import MLPRegressor"
   ]
  },
  {
   "cell_type": "code",
   "execution_count": 62,
   "id": "organized-ticket",
   "metadata": {},
   "outputs": [],
   "source": [
    "best_params = {'activation': 'relu',\n",
    " 'alpha': 2.0,\n",
    " 'beta_1': 0.9,\n",
    " 'beta_2': 0.95,\n",
    " 'early_stopping': True,\n",
    " 'hidden_layer_sizes': (128, 128),\n",
    " 'learning_rate': 'adaptive',\n",
    " 'momentum': 0.1,\n",
    " 'solver': 'adam'}"
   ]
  },
  {
   "cell_type": "code",
   "execution_count": 63,
   "id": "existing-series",
   "metadata": {},
   "outputs": [
    {
     "data": {
      "text/plain": [
       "MLPRegressor(alpha=2.0, beta_2=0.95, early_stopping=True,\n",
       "             hidden_layer_sizes=(128, 128), learning_rate='adaptive',\n",
       "             max_iter=5000, momentum=0.1, random_state=9)"
      ]
     },
     "execution_count": 63,
     "metadata": {},
     "output_type": "execute_result"
    }
   ],
   "source": [
    "nn = MLPRegressor(**best_params, random_state=9, max_iter=5000)\n",
    "nn.fit(X_train, y_train)"
   ]
  },
  {
   "cell_type": "code",
   "execution_count": 64,
   "id": "artificial-telling",
   "metadata": {},
   "outputs": [
    {
     "name": "stdout",
     "output_type": "stream",
     "text": [
      "RMSE - Val:  3272.6690582570777\n",
      "R^2 - Val:  0.5866241195402752\n"
     ]
    }
   ],
   "source": [
    "evaluate_model(nn, X_val, y_val)"
   ]
  },
  {
   "cell_type": "markdown",
   "id": "ignored-scholar",
   "metadata": {},
   "source": [
    "R^2 value reaches 0.66 on some random_states but overall is around 0.58. While promising, this is not as good as the Linear Regression model."
   ]
  },
  {
   "cell_type": "code",
   "execution_count": null,
   "id": "naval-integration",
   "metadata": {},
   "outputs": [],
   "source": [
    "params = {\n",
    "    'hidden_layer_sizes': [(128,128), (128, 128, 32), (128, 128, 64)],\n",
    "    'activation': ['relu'],\n",
    "    'solver': ['adam'],\n",
    "    'alpha': [1.0, 1.5, 2.0],\n",
    "    'learning_rate': ['adaptive'],\n",
    "    'momentum' : [0, 0.1],\n",
    "    'early_stopping': [True],\n",
    "    'beta_1': [0.9],\n",
    "    'beta_2': [0.95]\n",
    "}"
   ]
  },
  {
   "cell_type": "code",
   "execution_count": null,
   "id": "developed-glasgow",
   "metadata": {},
   "outputs": [],
   "source": [
    "nn = MLPRegressor(random_state=3, max_iter=5000)"
   ]
  },
  {
   "cell_type": "code",
   "execution_count": null,
   "id": "divine-amber",
   "metadata": {},
   "outputs": [],
   "source": [
    "nn_grid = GridSearchCV(nn, param_grid=params, verbose=3, cv=4, scoring='r2', n_jobs=4)"
   ]
  },
  {
   "cell_type": "code",
   "execution_count": null,
   "id": "loaded-solid",
   "metadata": {
    "tags": []
   },
   "outputs": [],
   "source": [
    "nn_grid.fit(X_train, y_train)"
   ]
  },
  {
   "cell_type": "code",
   "execution_count": null,
   "id": "hundred-overall",
   "metadata": {
    "tags": []
   },
   "outputs": [],
   "source": [
    "nn_grid.best_params_"
   ]
  },
  {
   "cell_type": "code",
   "execution_count": null,
   "id": "clean-edition",
   "metadata": {},
   "outputs": [],
   "source": [
    "nn_grid.best_score_"
   ]
  },
  {
   "cell_type": "code",
   "execution_count": null,
   "id": "loved-kitty",
   "metadata": {},
   "outputs": [],
   "source": [
    "nn = nn_grid.best_estimator_"
   ]
  },
  {
   "cell_type": "markdown",
   "id": "requested-village",
   "metadata": {},
   "source": [
    "### Evaluating the final model"
   ]
  },
  {
   "cell_type": "code",
   "execution_count": 65,
   "id": "modular-stocks",
   "metadata": {},
   "outputs": [
    {
     "name": "stdout",
     "output_type": "stream",
     "text": [
      "RMSE - Val:  3944.0674183619435\n",
      "R^2 - Val:  0.5893861281808692\n"
     ]
    }
   ],
   "source": [
    "evaluate_model(lr, X_test, y_test)"
   ]
  },
  {
   "cell_type": "markdown",
   "id": "induced-adjustment",
   "metadata": {},
   "source": [
    "R^2: 0.63 for Ridge Regression"
   ]
  },
  {
   "cell_type": "code",
   "execution_count": 66,
   "id": "colored-chassis",
   "metadata": {},
   "outputs": [
    {
     "name": "stdout",
     "output_type": "stream",
     "text": [
      "RMSE - Val:  4121.805090243665\n",
      "R^2 - Val:  0.4758723092569561\n"
     ]
    }
   ],
   "source": [
    "evaluate_model(nn, X_test, y_test)"
   ]
  },
  {
   "cell_type": "markdown",
   "id": "unlikely-galaxy",
   "metadata": {},
   "source": [
    "R^2: 0.58 for Neural Network"
   ]
  },
  {
   "cell_type": "markdown",
   "id": "angry-density",
   "metadata": {},
   "source": [
    "This value of R^2 (0.63 in this run) on the test set seems to me to be reasonable.\n",
    "\n",
    "    1. The generalisation error is not too big\n",
    "    2. This regression task concerns human behavior which is very unpredictable\n",
    "    \n",
    "Even if the NN and LR has the same performance on test set, I would choose LR for its interpretability and simplicity."
   ]
  },
  {
   "cell_type": "markdown",
   "id": "irish-trinity",
   "metadata": {},
   "source": [
    "#### Final choice: Ridge(fit_intercept=True, alpha=1)"
   ]
  },
  {
   "cell_type": "markdown",
   "id": "aggressive-membrane",
   "metadata": {},
   "source": [
    "#### Storing the pickle files"
   ]
  },
  {
   "cell_type": "code",
   "execution_count": null,
   "id": "stuck-restaurant",
   "metadata": {},
   "outputs": [],
   "source": [
    "import pickle"
   ]
  },
  {
   "cell_type": "code",
   "execution_count": null,
   "id": "wound-property",
   "metadata": {},
   "outputs": [],
   "source": [
    "features = X.columns"
   ]
  },
  {
   "cell_type": "code",
   "execution_count": null,
   "id": "fancy-correction",
   "metadata": {},
   "outputs": [],
   "source": [
    "pickle.dump(features, open('features.pickle', 'wb'))"
   ]
  },
  {
   "cell_type": "markdown",
   "id": "contrary-restaurant",
   "metadata": {},
   "source": [
    "##### Model"
   ]
  },
  {
   "cell_type": "code",
   "execution_count": null,
   "id": "equal-labor",
   "metadata": {},
   "outputs": [],
   "source": [
    "def save_model(model, name):\n",
    "    model.fit(X, Y_exp)\n",
    "    pickle.dump(model, open(name+'.pickle', 'wb'))"
   ]
  },
  {
   "cell_type": "code",
   "execution_count": null,
   "id": "south-alcohol",
   "metadata": {},
   "outputs": [],
   "source": [
    "save_model(lr, 'lr_exp')"
   ]
  },
  {
   "cell_type": "markdown",
   "id": "prescribed-tumor",
   "metadata": {},
   "source": [
    "# Conclusion "
   ]
  },
  {
   "cell_type": "markdown",
   "id": "after-amateur",
   "metadata": {},
   "source": [
    "As expected, a simple linear model performed well. Here are some thoughts about the model building part of this mini-project:\n",
    "\n",
    "What I don't regret:\n",
    "\n",
    "    - Choosing to focus on regression rather than timeseries forecasting, it would have been much harder to integrate all the different features. The timeseries approach might be worth trying but I suspect it won't surpass these results.\n",
    "    - Trying LR, XGB and NN, I think these cover a breadth of possible modeling techniques.\n",
    "    \n",
    "What I could've done better:\n",
    "\n",
    "    - In the end, the two classes I used to do preprocessing turned out to be a bit cumbersome. I always prefer using OOP for any programming task but I think I could've spent more time reasoning about what an ideal design would be.\n",
    "    - Adding to the previous point, I am wary that my preprocessing is quite inefficient and slow because the operations are not done optimally with pandas\n",
    "    - I may have spent too much time exploring the NAF code, I think I initially overestimated its relative explanatory power because of how little features I had.\n",
    "    - I could've built my solution with the fastapi integration in mind to avoid incompatibilities later on"
   ]
  },
  {
   "cell_type": "code",
   "execution_count": null,
   "id": "exclusive-taxation",
   "metadata": {},
   "outputs": [],
   "source": []
  }
 ],
 "metadata": {
  "kernelspec": {
   "display_name": "Python 3",
   "language": "python",
   "name": "python3"
  },
  "language_info": {
   "codemirror_mode": {
    "name": "ipython",
    "version": 3
   },
   "file_extension": ".py",
   "mimetype": "text/x-python",
   "name": "python",
   "nbconvert_exporter": "python",
   "pygments_lexer": "ipython3",
   "version": "3.7.10"
  }
 },
 "nbformat": 4,
 "nbformat_minor": 5
}
